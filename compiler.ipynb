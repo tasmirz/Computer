{
 "cells": [
  {
   "cell_type": "markdown",
   "metadata": {},
   "source": [
    "zero = r0\n",
    "temp = r1\n",
    "sp = r2\n",
    "random = r16"
   ]
  },
  {
   "cell_type": "code",
   "execution_count": 9,
   "metadata": {},
   "outputs": [],
   "source": [
    "\n",
    "function preprocess(source) {\n",
    "\tvar lines = []\n",
    "\tvar line =[]\n",
    "\tvar temp=\"\"\n",
    "\tvar lock =false;\n",
    "\tfor(var i=0;i<source.length;i++) {\n",
    "\t\tvar c=source[i]\n",
    "\t\tif (!lock) \n",
    "\t\tswitch (c) {\n",
    "\t\t\tcase ';':\n",
    "\t\t\t\tlock=true;\n",
    "\t\t\tcase '\\n':\n",
    "\t\t\t\tif (temp.length) line.push(temp)\n",
    "\t\t\t\ttemp=\"\"\n",
    "\t\t\t\tif (line.length)lines.push(line)\n",
    "\t\t\t\tline=[]\n",
    "\t\t\tbreak\n",
    "\t\t\tcase ' ':\n",
    "\t\t\tcase ',':\n",
    "\t\t\t\tif (temp.length) line.push(temp)\n",
    "\t\t\t\ttemp=\"\"\n",
    "\t\t\t\tbreak\n",
    "\t\t\tcase '\\t':\n",
    "\t\t\t\tbreak\n",
    "\t\t\tdefault:\n",
    "\t\t\t\ttemp+=c;\n",
    "\t\t\tbreak\n",
    "\t\t}\n",
    "\t\tif (c=='\\n') lock=false;\n",
    "\t}\n",
    "\treturn lines;\n",
    "}"
   ]
  },
  {
   "cell_type": "code",
   "execution_count": 12,
   "metadata": {},
   "outputs": [
    {
     "name": "stdout",
     "output_type": "stream",
     "text": [
      "[ [ 'mov', 'ax', 'bx' ], [ 'int', '21h' ] ]\n"
     ]
    }
   ],
   "source": [
    "preprocess(`\n",
    "\tmov     \t         ax,bx;hi\n",
    "\tint 21h\n",
    "`)"
   ]
  },
  {
   "cell_type": "code",
   "execution_count": null,
   "metadata": {},
   "outputs": [],
   "source": []
  },
  {
   "cell_type": "code",
   "execution_count": null,
   "metadata": {},
   "outputs": [],
   "source": [
    "function expand(line) { //do before push\n",
    "\t\n",
    "}"
   ]
  },
  {
   "cell_type": "code",
   "execution_count": null,
   "metadata": {},
   "outputs": [],
   "source": []
  },
  {
   "cell_type": "code",
   "execution_count": null,
   "metadata": {},
   "outputs": [],
   "source": [
    "opcodes =  new Map();\n",
    "opcodes[\"nop\"]=0\n",
    "opcodes[\"add\"]=1\n",
    "opcodes[\"sub\"]=2\n",
    "opcodes[\"mul\"]=3\n",
    "opcodes[\"mulh\"]=4\n",
    "opcodes[\"div\"]=5\n",
    "opcodes[\"rem\"]=6\n",
    "opcodes[\"not\"]=7\n",
    "opcodes[\"and\"]=8\n",
    "opcodes[\"or\"]=9\n",
    "opcodes[\"xor\"]=10\n",
    "opcodes[\"shl\"]=\n",
    "opcodes[\"shr\"]=\n",
    "opcodes[\"ror\"]=\n",
    "opcodes[\"rol\"]=\n",
    "opcodes[\"ashl\"]=\n",
    "opcodes[\"\"]=\n",
    "opcodes[\"add\"]=\n",
    "opcodes[\"sub\"]=\n",
    "opcodes[\"mul\"]=\n",
    "opcodes[\"mulh\"]=\n",
    "opcodes[\"div\"]=\n",
    "opcodes[\"rem\"]=\n",
    "opcodes[\"lui\"]=\n",
    "opcodes[\"and\"]=\n",
    "opcodes[\"or\"]=\n",
    "opcodes[\"xor\"]=\n",
    "opcodes[\"shl\"]=\n",
    "opcodes[\"shr\"]=\n",
    "opcodes[\"ror\"]=\n",
    "opcodes[\"rol\"]=\n",
    "opcodes[\"ashl\"]=\n",
    "opcodes[\"jr\"]=\n",
    "opcodes[\"bg\"]=\n",
    "opcodes[\"be\"]=\n",
    "opcodes[\"bge\"]=\n",
    "opcodes[\"bl\"]=\n",
    "opcodes[\"bne\"]=\n",
    "opcodes[\"ble\"]=\n",
    "opcodes[\"jal\"]=\n",
    "opcodes[\"load\"]=\n",
    "opcodes[\"loadi(adddr)\"]=\n",
    "opcodes[\"store\"]=\n",
    "opcodes[\"storei\"]=\n",
    "opcodes[\"In – reg\"]=\n",
    "opcodes[\"in\"]=\n",
    "opcodes[\"out- reg\"]=\n",
    "opcodes[\"out\"]=\n",
    "opcodes[\".\"]=\n",
    "opcodes[\"\"]=\n",
    "opcodes[\"\"]=\n",
    "opcodes[\"\"]=\n",
    "opcodes[\"\"]=\n",
    "opcodes[\"\"]=\n",
    "opcodes[\"\"]=\n",
    "opcodes[\"\"]=\n",
    "opcodes[\"\"]=\n",
    "opcodes[\"\"]=\n",
    "opcodes[\"\"]=\n",
    "opcodes[\"\"]=\n",
    "opcodes[\"\"]=\n",
    "opcodes[\"\"]=\n",
    "opcodes[\"\"]=\n",
    "opcodes[\"hlt\"]=\n"
   ]
  },
  {
   "cell_type": "code",
   "execution_count": null,
   "metadata": {},
   "outputs": [],
   "source": []
  }
 ],
 "metadata": {
  "kernelspec": {
   "display_name": "JavaScript",
   "language": "javascript",
   "name": "jslab"
  },
  "language_info": {
   "file_extension": ".js",
   "mimetype": "text/javascript",
   "name": "javascript",
   "version": ""
  }
 },
 "nbformat": 4,
 "nbformat_minor": 2
}
