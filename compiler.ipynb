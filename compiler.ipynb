{
 "cells": [
  {
   "cell_type": "markdown",
   "metadata": {},
   "source": [
    "```nasm\n",
    ";Constant Declaration\n",
    "yy = 10\n",
    "bt=100\n",
    "---\n",
    ";Variable Declaration\n",
    "var 1 2 3 4 5\n",
    "var 3 dup 5 6 dup 10\n",
    "var \"abc\"\n",
    ";this generates a separate variable file\n",
    "---\n",
    ";the code section\n",
    "```"
   ]
  },
  {
   "cell_type": "markdown",
   "metadata": {},
   "source": [
    "zero = r0\n",
    "temp = r1\n",
    "sp = r2\n",
    "random = r16"
   ]
  },
  {
   "cell_type": "code",
   "execution_count": null,
   "metadata": {},
   "outputs": [],
   "source": [
    "function segments(source) {\n",
    "\tarr = source.split('---');\n",
    "\tif (arr.length!=3) throw \"Check segments\"\n",
    "\treturn {\n",
    "\t\tconstants : arr[0],\n",
    "\t\tvariables : arr[1],\n",
    "\t\tcode : arr[2],\n",
    "\t}\n",
    "}"
   ]
  },
  {
   "cell_type": "code",
   "execution_count": 22,
   "metadata": {},
   "outputs": [],
   "source": [
    "function get_constants (source) {\n",
    "\tvar constants = new Map()\n",
    "constants[\"zero\"]=\"r0\"\n",
    "constants[\"temp\"]=\"r1\"\n",
    "constants[\"sp\"]=\"r2\"\n",
    "constants[\"random\"]=\"r16\"\n",
    "\tsource = source.split('\\n');\n",
    "\tfor (var i of source) {\n",
    "\ti=i.replace(/\\s|\\t/g,'')\n",
    "\ti=i.split(';')[0].split('=')\n",
    "\tif (i.length == 2)constants[i[0]]=i[1]\n",
    "\t}\n",
    "\treturn constants\n",
    "}"
   ]
  },
  {
   "cell_type": "code",
   "execution_count": 6,
   "metadata": {},
   "outputs": [
    {
     "name": "stdout",
     "output_type": "stream",
     "text": [
      "Map(0) {\n",
      "  zero: 'r0',\n",
      "  temp: 'r1',\n",
      "  sp: 'r2',\n",
      "  random: 'r16',\n",
      "  a: '1000',\n",
      "  b: '3000'\n",
      "}\n"
     ]
    }
   ],
   "source": [
    "get_constants(`\n",
    "a=1000\n",
    "b =  3000\n",
    "`)"
   ]
  },
  {
   "cell_type": "code",
   "execution_count": 21,
   "metadata": {},
   "outputs": [
    {
     "name": "stdout",
     "output_type": "stream",
     "text": [
      "hi there a\n"
     ]
    }
   ],
   "source": [
    "'hi\\n  \\tthere a'.replace(/\\s{2,}/g,' ')"
   ]
  },
  {
   "cell_type": "code",
   "execution_count": 6,
   "metadata": {},
   "outputs": [],
   "source": [
    "function hex29 (n) {\n",
    "\tvar ret = (n& 536870911).toString(16).padStart(8,\"0\")\n",
    "return ret\n",
    "}"
   ]
  },
  {
   "cell_type": "code",
   "execution_count": 9,
   "metadata": {},
   "outputs": [],
   "source": [
    "function memory_preprocess (source) {\n",
    "\tsource = source.split('\\n');\n",
    "\tvar ret =[]\n",
    "\tfor (var i of source) {\n",
    "\t\tvar li = i.search(`\"`);\n",
    "\t\tvar ri = i.lastIndexOf(`\"`);\n",
    "\t\tif (li==-1) {\n",
    "\t\t\ti = i.split(\";\")[0].trim();\n",
    "\t\t\tif (!i.length) continue;\n",
    "\t\t\t\n",
    "\n",
    "\t\t} else {\n",
    "\t\t\t var name  =  i.slice(0,li).trim()\n",
    "\t\t\t var str = i.slice(li+1,ri);\n",
    "\t\t\t var string =[]\n",
    "\t\t\t for (var j=0;j<str.length; j++){\n",
    "\t\t\t\tstring.push(hex29(str[j].charCodeAt(0)))\n",
    "\t\t\t }\n",
    "\t\t\t ret.push( {name : name,\n",
    "\t\t\t\t\t\t\tdata:string})\n",
    "\t\t}\n",
    "\t}\n",
    "\treturn ret;\n",
    "}"
   ]
  },
  {
   "cell_type": "code",
   "execution_count": 10,
   "metadata": {},
   "outputs": [
    {
     "name": "stdout",
     "output_type": "stream",
     "text": [
      "[\n",
      "  {\n",
      "    name: 'var',\n",
      "    string: [ '00000068', '00000065', '0000006c', '0000006c', '0000006f' ]\n",
      "  }\n",
      "]\n"
     ]
    }
   ],
   "source": [
    "memory_preprocess(`var \"hello\"`)"
   ]
  },
  {
   "cell_type": "code",
   "execution_count": 9,
   "metadata": {},
   "outputs": [],
   "source": [
    "function preprocess(source) {\n",
    "\tvar lines = []\n",
    "\tvar line =[]\n",
    "\tvar temp=\"\"\n",
    "\tvar lock =false;\n",
    "\tfor(var i=0;i<source.length;i++) {\n",
    "\t\tvar c=source[i]\n",
    "\t\tif (!lock) \n",
    "\t\tswitch (c) {\n",
    "\t\t\tcase ';':\n",
    "\t\t\t\tlock=true;\n",
    "\t\t\tcase '\\n':\n",
    "\t\t\t\tif (temp.length) line.push(temp)\n",
    "\t\t\t\ttemp=\"\"\n",
    "\t\t\t\tif (line.length)lines.push(line)\n",
    "\t\t\t\tline=[]\n",
    "\t\t\tbreak\n",
    "\t\t\tcase ' ':\n",
    "\t\t\tcase ',':\n",
    "\t\t\t\tif (temp.length) line.push(temp)\n",
    "\t\t\t\ttemp=\"\"\n",
    "\t\t\t\tbreak\n",
    "\t\t\tcase '\\t':\n",
    "\t\t\t\tbreak\n",
    "\t\t\tdefault:\n",
    "\t\t\t\ttemp+=c;\n",
    "\t\t\tbreak\n",
    "\t\t}\n",
    "\t\tif (c=='\\n') lock=false;\n",
    "\t}\n",
    "\treturn lines;\n",
    "}"
   ]
  },
  {
   "cell_type": "code",
   "execution_count": 12,
   "metadata": {},
   "outputs": [
    {
     "name": "stdout",
     "output_type": "stream",
     "text": [
      "[ [ 'mov', 'ax', 'bx' ], [ 'int', '21h' ] ]\n"
     ]
    }
   ],
   "source": [
    "preprocess(`\n",
    "\tmov     \t         ax,bx;hi\n",
    "\tint 21h\n",
    "`)"
   ]
  },
  {
   "cell_type": "code",
   "execution_count": null,
   "metadata": {},
   "outputs": [],
   "source": [
    "opcodes =  new Map();\n",
    "opcodes[\"nop\"]=0\n",
    "opcodes[\"add\"]=1\n",
    "opcodes[\"sub\"]=2\n",
    "opcodes[\"mul\"]=3\n",
    "opcodes[\"mulh\"]=4\n",
    "opcodes[\"div\"]=5\n",
    "opcodes[\"rem\"]=6\n",
    "opcodes[\"not\"]=7\n",
    "opcodes[\"and\"]=8\n",
    "opcodes[\"or\"]=9\n",
    "opcodes[\"xor\"]=10\n",
    "opcodes[\"shl\"]=11\n",
    "opcodes[\"shr\"]=12\n",
    "opcodes[\"ror\"]=13\n",
    "opcodes[\"rol\"]=14\n",
    "opcodes[\"ashl\"]=15\n",
    "opcodes[\"addi\"]=17\n",
    "opcodes[\"subi\"]=18\n",
    "opcodes[\"muli\"]=19\n",
    "opcodes[\"mulhi\"]=20\n",
    "opcodes[\"divi\"]=21\n",
    "opcodes[\"remi\"]=22\n",
    "opcodes[\"lui\"]=23\n",
    "opcodes[\"andi\"]=24\n",
    "opcodes[\"ori\"]=25\n",
    "opcodes[\"xori\"]=26\n",
    "opcodes[\"shli\"]=27\n",
    "opcodes[\"shri\"]=28\n",
    "opcodes[\"rori\"]=29\n",
    "opcodes[\"roli\"]=30\n",
    "opcodes[\"ashli\"]=31\n",
    "opcodes[\"jr\"]=32\n",
    "opcodes[\"bg\"]=33\n",
    "opcodes[\"be\"]=34\n",
    "opcodes[\"bge\"]=35\n",
    "opcodes[\"bl\"]=36\n",
    "opcodes[\"bne\"]=37\n",
    "opcodes[\"ble\"]=38\n",
    "opcodes[\"jal\"]=39\n",
    "opcodes[\"load\"]=40\n",
    "opcodes[\"loadi\"]=41\n",
    "opcodes[\"store\"]=42\n",
    "opcodes[\"storei\"]=43\n",
    "opcodes[\"in\"]=44\n",
    "opcodes[\"ini\"]=45\n",
    "opcodes[\"out\"]=46\n",
    "opcodes[\"outi\"]=47\n",
    "opcodes[\"hlt\"]=63\n",
    "registers = new Map();\n",
    "registers[\"r0\"]=0\n",
    "registers[\"r1\"]=1\n",
    "registers[\"r2\"]=2\n",
    "registers[\"r3\"]=3\n",
    "registers[\"r4\"]=4\n",
    "registers[\"r5\"]=5\n",
    "registers[\"r6\"]=6\n",
    "registers[\"r7\"]=7\n",
    "registers[\"r8\"]=8\n",
    "registers[\"r9\"]=9\n",
    "registers[\"r10\"]=10\n",
    "registers[\"r11\"]=11\n",
    "registers[\"r12\"]=12\n",
    "registers[\"r13\"]=13\n",
    "registers[\"r14\"]=14\n",
    "registers[\"r15\"]=15\n",
    "registers[\"r16\"]=16\n",
    "registers[\"r17\"]=17\n",
    "registers[\"r18\"]=18\n",
    "registers[\"r19\"]=19\n",
    "registers[\"r20\"]=20\n",
    "registers[\"r21\"]=21\n",
    "registers[\"r22\"]=22\n",
    "registers[\"r23\"]=23\n",
    "registers[\"r24\"]=24\n",
    "registers[\"r25\"]=25\n",
    "registers[\"r26\"]=26\n",
    "registers[\"r27\"]=27\n",
    "registers[\"r28\"]=28\n",
    "registers[\"r29\"]=29\n",
    "registers[\"r30\"]=30\n",
    "registers[\"r31\"]=31"
   ]
  },
  {
   "cell_type": "code",
   "execution_count": null,
   "metadata": {},
   "outputs": [],
   "source": [
    "function specify (line) {\n",
    "\n",
    "}"
   ]
  },
  {
   "cell_type": "code",
   "execution_count": null,
   "metadata": {},
   "outputs": [],
   "source": [
    "function expand(line) { //do before push\n",
    "\tswitch(line[0]) {\n",
    "\t\tcase \"mov\":\n",
    "\t\t\tbreak;\n",
    "\t\tcase \"push\":\n",
    "\t\t\t\n",
    "\t}\n",
    "}"
   ]
  }
 ],
 "metadata": {
  "kernelspec": {
   "display_name": "JavaScript",
   "language": "javascript",
   "name": "jslab"
  },
  "language_info": {
   "file_extension": ".js",
   "mimetype": "text/javascript",
   "name": "javascript",
   "version": ""
  }
 },
 "nbformat": 4,
 "nbformat_minor": 2
}
