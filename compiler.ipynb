{
 "cells": [
  {
   "cell_type": "markdown",
   "metadata": {},
   "source": [
    "```nasm\n",
    ";Constant Declaration\n",
    "yy = 10\n",
    "bt=100\n",
    ";---\n",
    ";Variable Declaration\n",
    "var 1 2 3 4 5\n",
    "var 3 dup 4 5 dup 6 7\n",
    "var \"abc\"\n",
    ";this generates a separate variable file\n",
    ";---\n",
    ";the code section\n",
    "```"
   ]
  },
  {
   "cell_type": "markdown",
   "metadata": {},
   "source": [
    "zero = r0\n",
    "temp = r1\n",
    "sp = r2\n",
    "random = r16"
   ]
  },
  {
   "cell_type": "code",
   "execution_count": null,
   "metadata": {},
   "outputs": [],
   "source": [
    "function segments(source) {\n",
    "\tarr = source.split(';---');\n",
    "\tif (arr.length != 3) throw \"Check segments\"\n",
    "\treturn {\n",
    "\t\tconstants: arr[0],\n",
    "\t\tvariables: arr[1],\n",
    "\t\tcode: arr[2],\n",
    "\t}\n",
    "}"
   ]
  },
  {
   "cell_type": "code",
   "execution_count": 22,
   "metadata": {},
   "outputs": [],
   "source": [
    "function get_constants(source) {\n",
    "\tvar constants = new Map()\n",
    "\tconstants[\"zero\"] = \"r0\"\n",
    "\tconstants[\"temp\"] = \"r1\"\n",
    "\tconstants[\"sp\"] = \"r2\"\n",
    "    constants[\"bp\"]=\"r3\"\n",
    "\tconstants[\"random\"] = \"r16\"\n",
    "\tsource = source.split('\\n');\n",
    "\tfor (var i of source) {\n",
    "\t\ti = i.replace(/\\s|\\t/g, '')\n",
    "\t\ti = i.split(';')[0].split('=')\n",
    "\t\tif (i.length == 2) constants[i[0]] = i[1]\n",
    "\t}\n",
    "\treturn constants\n",
    "}"
   ]
  },
  {
   "cell_type": "code",
   "execution_count": 6,
   "metadata": {},
   "outputs": [
    {
     "name": "stdout",
     "output_type": "stream",
     "text": [
      "Map(0) {\n",
      "  zero: 'r0',\n",
      "  temp: 'r1',\n",
      "  sp: 'r2',\n",
      "  random: 'r16',\n",
      "  a: '1000',\n",
      "  b: '3000'\n",
      "}\n"
     ]
    }
   ],
   "source": [
    "get_constants(`\n",
    "a=1000\n",
    "b =  3000\n",
    "`)"
   ]
  },
  {
   "cell_type": "code",
   "execution_count": 21,
   "metadata": {},
   "outputs": [
    {
     "name": "stdout",
     "output_type": "stream",
     "text": [
      "hi there a\n"
     ]
    }
   ],
   "source": [
    "'hi\\n  \\tthere a'.replace(/\\s{2,}/g, ' ')"
   ]
  },
  {
   "cell_type": "code",
   "execution_count": 3,
   "metadata": {},
   "outputs": [],
   "source": [
    "function hex29(n) {\n",
    "\tvar ret = (n & 536870911).toString(16).padStart(8, \"0\")\n",
    "\treturn ret\n",
    "}"
   ]
  },
  {
   "cell_type": "code",
   "execution_count": 19,
   "metadata": {},
   "outputs": [],
   "source": [
    "function hexN(n, b) {\n",
    "\tvar ret = (n & ((1 << b) - 1)).toString(16).padStart((b + 3) / 4, \"0\")\n",
    "\treturn ret\n",
    "}"
   ]
  },
  {
   "cell_type": "code",
   "execution_count": 20,
   "metadata": {},
   "outputs": [
    {
     "name": "stdout",
     "output_type": "stream",
     "text": [
      "0a\n"
     ]
    }
   ],
   "source": [
    "hexN(10, 5)"
   ]
  },
  {
   "cell_type": "code",
   "execution_count": 10,
   "metadata": {},
   "outputs": [],
   "source": [
    "// replace all constants beforehand\n",
    "function memory_preprocess(source) {\n",
    "\tvar vars = new Map()\n",
    "\tsource = source.split('\\n');\n",
    "\tvar ret = []\n",
    "\tfor (var i of source) {\n",
    "\t\tvar li = i.search(`\"`);\n",
    "\t\tvar ri = i.lastIndexOf(`\"`);\n",
    "\t\tif (li == -1) {\n",
    "\t\t\ti = i.split(\";\")[0].trim().replace(/\\s+/g, ' ').split(\" \");\n",
    "\t\t\tif (i.length < 2) continue;\n",
    "\t\t\tvars[i[0]] = ret.length;\n",
    "\t\t\tfor (var j = 1; j < i.length; j++) {\n",
    "\t\t\t\tif (i[j] == \"dup\") {\n",
    "\t\t\t\t\tvar q;\n",
    "\t\t\t\t\tswitch (i[j + 1][0]) {\n",
    "\t\t\t\t\t\tcase \"b\":\n",
    "\t\t\t\t\t\t\tq = (hex29(parseInt(i[j + 1].slice(1), 2)))\n",
    "\t\t\t\t\t\t\tbreak\n",
    "\t\t\t\t\t\tcase \"h\":\n",
    "\t\t\t\t\t\t\tq = (hex29(parseInt(i[j + 1].slice(1), 16)))\n",
    "\t\t\t\t\t\t\tbreak\n",
    "\t\t\t\t\t\tdefault:\n",
    "\t\t\t\t\t\t\tq = (hex29(parseInt(i[j + 1], 10)))\n",
    "\n",
    "\t\t\t\t\t}\n",
    "\t\t\t\t\tfor (var k = 0; k < parseInt(i[j + 2]); k++) ret.push(q);\n",
    "\t\t\t\t\tj += 2\n",
    "\t\t\t\t} else {\n",
    "\t\t\t\t\tswitch (i[j][0]) {\n",
    "\t\t\t\t\t\tcase \"b\":\n",
    "\t\t\t\t\t\t\tret.push(hex29(parseInt(i[j].slice(1), 2)))\n",
    "\t\t\t\t\t\t\tbreak\n",
    "\t\t\t\t\t\tcase \"h\":\n",
    "\t\t\t\t\t\t\tret.push(hex29(parseInt(i[j].slice(1), 16)))\n",
    "\t\t\t\t\t\t\tbreak\n",
    "\t\t\t\t\t\tdefault:\n",
    "\t\t\t\t\t\t\tret.push(hex29(parseInt(i[j], 10)))\n",
    "\n",
    "\t\t\t\t\t}\n",
    "\t\t\t\t}\n",
    "\t\t\t}\n",
    "\n",
    "\n",
    "\t\t} else {\n",
    "\t\t\tvar name = i.slice(0, li).trim()\n",
    "\t\t\tvar str = i.slice(li + 1, ri);\n",
    "\t\t\tvars[name] = ret.length\n",
    "\t\t\tfor (var j = 0; j < str.length; j++) {\n",
    "\t\t\t\tret.push(hex29(str[j].charCodeAt(0)))\n",
    "\t\t\t}\n",
    "\t\t}\n",
    "\t}\n",
    "\treturn {\n",
    "\t\tnames: vars,\n",
    "\t\tmemory: ret\n",
    "\t};\n",
    "}"
   ]
  },
  {
   "cell_type": "code",
   "execution_count": 14,
   "metadata": {},
   "outputs": [
    {
     "name": "stdout",
     "output_type": "stream",
     "text": [
      "{\n",
      "  names: Map(0) { var: 0, var2: 5, var3: 7 },\n",
      "  memory: [\n",
      "    '00000068', '00000065',\n",
      "    '0000006c', '0000006c',\n",
      "    '0000006f', '0000000a',\n",
      "    '00004e20', '0000000a',\n",
      "    '0000000a', '0000000a'\n",
      "  ]\n",
      "}\n"
     ]
    }
   ],
   "source": [
    "memory_preprocess(`\n",
    ";pikachu\n",
    "var \"hello\"\n",
    "var2 10 20000;yay\n",
    "var3 dup 10 3;nay\n",
    ";pop\n",
    "`)"
   ]
  },
  {
   "cell_type": "code",
   "execution_count": 9,
   "metadata": {},
   "outputs": [],
   "source": [
    "function preprocess(source) {\n",
    "\tvar lines = []\n",
    "\tvar line = []\n",
    "\tvar temp = \"\"\n",
    "\tvar lock = false;\n",
    "\tfor (var i = 0; i < source.length; i++) {\n",
    "\t\tvar c = source[i]\n",
    "\t\tif (!lock)\n",
    "\t\t\tswitch (c) {\n",
    "\t\t\t\tcase ';':\n",
    "\t\t\t\t\tlock = true;\n",
    "\t\t\t\tcase '\\n':\n",
    "\t\t\t\t\tif (temp.length) line.push(temp)\n",
    "\t\t\t\t\ttemp = \"\"\n",
    "\t\t\t\t\tif (line.length) lines.push(line)\n",
    "\t\t\t\t\tline = []\n",
    "\t\t\t\t\tbreak\n",
    "\t\t\t\tcase ' ':\n",
    "\t\t\t\tcase ',':\n",
    "\t\t\t\t\tif (temp.length) line.push(temp)\n",
    "\t\t\t\t\ttemp = \"\"\n",
    "\t\t\t\t\tbreak\n",
    "\t\t\t\tcase '\\t':\n",
    "\t\t\t\t\tbreak\n",
    "\t\t\t\tdefault:\n",
    "\t\t\t\t\ttemp += c;\n",
    "\t\t\t\t\tbreak\n",
    "\t\t\t}\n",
    "\t\tif (c == '\\n') lock = false;\n",
    "\t}\n",
    "\treturn lines;\n",
    "}"
   ]
  },
  {
   "cell_type": "code",
   "execution_count": 12,
   "metadata": {},
   "outputs": [
    {
     "name": "stdout",
     "output_type": "stream",
     "text": [
      "[ [ 'mov', 'ax', 'bx' ], [ 'int', '21h' ] ]\n"
     ]
    }
   ],
   "source": [
    "preprocess(`\n",
    "\tmov     \t         ax,bx;hi\n",
    "\tint 21h\n",
    "`)"
   ]
  },
  {
   "cell_type": "code",
   "execution_count": null,
   "metadata": {},
   "outputs": [],
   "source": [
    "opcodes = new Map();\n",
    "opcodes[\"nop\"] = 0\n",
    "opcodes[\"add\"] = 1\n",
    "opcodes[\"sub\"] = 2\n",
    "opcodes[\"mul\"] = 3\n",
    "opcodes[\"mulh\"] = 4\n",
    "opcodes[\"div\"] = 5\n",
    "opcodes[\"rem\"] = 6\n",
    "opcodes[\"not\"] = 7\n",
    "opcodes[\"and\"] = 8\n",
    "opcodes[\"or\"] = 9\n",
    "opcodes[\"xor\"] = 10\n",
    "opcodes[\"shl\"] = 11\n",
    "opcodes[\"shr\"] = 12\n",
    "opcodes[\"ror\"] = 13\n",
    "opcodes[\"rol\"] = 14\n",
    "opcodes[\"ashl\"] = 15\n",
    "opcodes[\"addi\"] = 17\n",
    "opcodes[\"subi\"] = 18\n",
    "opcodes[\"muli\"] = 19\n",
    "opcodes[\"mulhi\"] = 20\n",
    "opcodes[\"divi\"] = 21\n",
    "opcodes[\"remi\"] = 22\n",
    "opcodes[\"lui\"] = 23\n",
    "opcodes[\"andi\"] = 24\n",
    "opcodes[\"ori\"] = 25\n",
    "opcodes[\"xori\"] = 26\n",
    "opcodes[\"shli\"] = 27\n",
    "opcodes[\"shri\"] = 28\n",
    "opcodes[\"rori\"] = 29\n",
    "opcodes[\"roli\"] = 30\n",
    "opcodes[\"ashli\"] = 31\n",
    "opcodes[\"jr\"] = 32\n",
    "opcodes[\"bg\"] = 33\n",
    "opcodes[\"be\"] = 34\n",
    "opcodes[\"bge\"] = 35\n",
    "opcodes[\"bl\"] = 36\n",
    "opcodes[\"bne\"] = 37\n",
    "opcodes[\"ble\"] = 38\n",
    "opcodes[\"jal\"] = 39\n",
    "opcodes[\"load\"] = 40\n",
    "opcodes[\"loadi\"] = 41\n",
    "opcodes[\"store\"] = 42\n",
    "opcodes[\"storei\"] = 43\n",
    "opcodes[\"in\"] = 44\n",
    "opcodes[\"ini\"] = 45\n",
    "opcodes[\"out\"] = 46\n",
    "opcodes[\"outi\"] = 47\n",
    "opcodes[\"hlt\"] = 63"
   ]
  },
  {
   "cell_type": "code",
   "execution_count": null,
   "metadata": {},
   "outputs": [],
   "source": [
    "operands = new Map();\n",
    "operands[\"nop\"] = [\"rd\", \"rs1\", \"rs2\"]\n",
    "operands[\"add\"] = [\"rd\", \"rs1\", \"rs2\"]\n",
    "operands[\"sub\"] = [\"rd\", \"rs1\", \"rs2\"]\n",
    "operands[\"mul\"] = [\"rd\", \"rs1\", \"rs2\"]\n",
    "operands[\"mulh\"] = [\"rd\", \"rs1\", \"rs2\"]\n",
    "operands[\"div\"] = [\"rd\", \"rs1\", \"rs2\"]\n",
    "operands[\"rem\"] = [\"rd\", \"rs1\", \"rs2\"]\n",
    "operands[\"not\"] = [\"rd\", \"rs1\", \"rs2\"]\n",
    "operands[\"and\"] = [\"rd\", \"rs1\", \"rs2\"]\n",
    "operands[\"or\"] = [\"rd\", \"rs1\", \"rs2\"]\n",
    "operands[\"xor\"] = [\"rd\", \"rs1\", \"rs2\"]\n",
    "operands[\"shl\"] = [\"rd\", \"rs1\", \"rs2\"]\n",
    "operands[\"shr\"] = [\"rd\", \"rs1\", \"rs2\"]\n",
    "operands[\"ror\"] = [\"rd\", \"rs1\", \"rs2\"]\n",
    "operands[\"rol\"] = [\"rd\", \"rs1\", \"rs2\"]\n",
    "operands[\"ashl\"] = [\"rd\", \"rs1\", \"rs2\"]\n",
    "operands[\"addi\"] = [\"rd\", \"rs1\", \"im\"]\n",
    "operands[\"subi\"] = [\"rd\", \"rs1\", \"im\"]\n",
    "operands[\"muli\"] = [\"rd\", \"rs1\", \"im\"]\n",
    "operands[\"mulhi\"] = [\"rd\", \"rs1\", \"im\"]\n",
    "operands[\"divi\"] = [\"rd\", \"rs1\", \"im\"]\n",
    "operands[\"remi\"] = [\"rd\", \"rs1\", \"im\"]\n",
    "operands[\"lui\"] = [\"rd\", \"rs1\", \"im\"]\n",
    "operands[\"andi\"] = [\"rd\", \"rs1\", \"im\"]\n",
    "operands[\"ori\"] = [\"rd\", \"rs1\", \"im\"]\n",
    "operands[\"xori\"] = [\"rd\", \"rs1\", \"im\"]\n",
    "operands[\"shli\"] = [\"rd\", \"rs1\", \"im\"]\n",
    "operands[\"shri\"] = [\"rd\", \"rs1\", \"im\"]\n",
    "operands[\"rori\"] = [\"rd\", \"rs1\", \"im\"]\n",
    "operands[\"roli\"] = [\"rd\", \"rs1\", \"im\"]\n",
    "operands[\"ashli\"] = [\"rd\", \"rs1\", \"im\"]\n",
    "operands[\"jr\"] = [\"rd\", \"rs1\"]\n",
    "operands[\"bg\"] = [\"rs1\", \"rs2\", \"im\"]\n",
    "operands[\"be\"] = [\"rs1\", \"rs2\", \"im\"]\n",
    "operands[\"bge\"] = [\"rs1\", \"rs2\", \"im\"]\n",
    "operands[\"bl\"] = [\"rs1\", \"rs2\", \"im\"]\n",
    "operands[\"bne\"] = [\"rs1\", \"rs2\", \"im\"]\n",
    "operands[\"ble\"] = [\"rs1\", \"rs2\", \"im\"]\n",
    "operands[\"jal\"] = [\"rd\", \"rs1\"]\n",
    "operands[\"load\"] = [\"rd\",\"rs1\"]\n",
    "operands[\"loadi\"] = [\"rd\",\"ld\"]\n",
    "operands[\"store\"] = [\"rs1\", \"rs2\"]\n",
    "operands[\"storei\"] = [\"st\",\"rs2\"]\n",
    "operands[\"in\"] = [\"rd\", \"rs2\"]\n",
    "operands[\"ini\"] = [\"rd\", \"ld\"]\n",
    "operands[\"out\"] = [\"rs2\",\"rs1\"]\n",
    "operands[\"outi\"] = [\"rs2\",\"ld\"]\n",
    "operands[\"hlt\"] = []"
   ]
  },
  {
   "cell_type": "code",
   "execution_count": null,
   "metadata": {},
   "outputs": [],
   "source": [
    "function parseNumber(n) {\n",
    "    switch(n[0]) {\n",
    "        case \"b\" :return (hex29(parseInt(i[j].slice(1), 2)))\n",
    "        case \"h\": return(hex29(parseInt(i[j].slice(1), 16)))\n",
    "        default:return (hex29(parseInt(i[j], 10)))\n",
    "    }\n",
    "}\t\t\t\t\t\t\t"
   ]
  },
  {
   "cell_type": "code",
   "execution_count": 7,
   "metadata": {},
   "outputs": [],
   "source": [
    "class instruction {\n",
    "\tconstructor(line) {\n",
    "\t\tthis.line = line\n",
    "\t\t//          op,rd,rs1,rs2,st,ld,im,imu,jr\n",
    "\t\tthis.list = {\n",
    "\t\t\topcode: 0,\n",
    "\t\t\trd: 0,\n",
    "\t\t\trs1: 0,\n",
    "\t\t\trs2: 0,\n",
    "\t\t\tst: 0,\n",
    "\t\t\tld: 0,\n",
    "\t\t\tim: 0,\n",
    "\t\t\timu: 0,\n",
    "\t\t\tjr: 0\n",
    "\t\t} //policy if 0 don't include\n",
    "\t\tthis.cooked = 0;\n",
    "\t\tthis.specs = {\n",
    "\t\t\topcode: [[0, 6]], //opcode\n",
    "\t\t\trd: [[6, 5]], //rd\n",
    "\t\t\trs1: [[11, 5]], //rs1\n",
    "\t\t\trs2: [[16, 5]], //rs2\n",
    "\t\t\tst: [[6, 10], [23, 6]], //st\n",
    "\t\t\tld: [[13, 16]],//ld\n",
    "\t\t\tim: [[18, 12]], //im\n",
    "\t\t\timu: [[12, 17]], //imu\n",
    "\t\t\tjr: [[6, 5], [21, 8]]//jr\n",
    "\t\t}\n",
    "\t}\n",
    "\t#mix() {\n",
    "\t\tthis.list.opcode = opcodes[this.line.opcode]\n",
    "\t\tvar ops = operands[this.line.opcode]\n",
    "\t\tthis.line.shift();\n",
    "\t\tfor (var i in ops) {\n",
    "\t\t\tif (this.line[i] == \"r\") this.line[i].splice(1)\n",
    "\t\t\tthis.list[ops[i]] = parseInt(this.line[i])\n",
    "\t\t}\n",
    "\t}\n",
    "\t#cook() {\n",
    "\t\tfor (var i in this.specs) {\n",
    "\t\t\tvar t = this.list[i]\n",
    "\t\t\tfor (var j of this.specs[i]) {\n",
    "\t\t\t\tthis.cooked |= (((1 << j[1]) - 1) & t) << j[0]\n",
    "\t\t\t\tt >>= j[1]\n",
    "\t\t\t}\n",
    "\t\t}\n",
    "\t\t//this.cooked|=ops&(1<<this.specs.opcodes[2]-1)\n",
    "\t}\n",
    "\n",
    "\tdigest() {\n",
    "\t\tthis.#cook();\n",
    "\t\tthis.#mix();\n",
    "\t\treturn hex29(this.cooked)\n",
    "\t}\n",
    "}\n"
   ]
  },
  {
   "cell_type": "markdown",
   "metadata": {},
   "source": [
    "mov ax,10\n",
    "mov ax,#1000\n",
    "mov #1000,ax\n",
    "lea ax,#1000\n",
    "```"
   ]
  },
  {
   "cell_type": "markdown",
   "metadata": {},
   "source": [
    "fn call\n",
    "push bp\n",
    "jmp -> sets new bp\n",
    "\n",
    "\n",
    "ret\n",
    "jmp bp\n",
    "pop "
   ]
  },
  {
   "cell_type": "code",
   "execution_count": 1,
   "metadata": {},
   "outputs": [],
   "source": [
    "var a = new Map()\n",
    "a[\"a\"]=10"
   ]
  },
  {
   "cell_type": "code",
   "execution_count": 3,
   "metadata": {},
   "outputs": [
    {
     "name": "stdout",
     "output_type": "stream",
     "text": [
      "undefined\n"
     ]
    }
   ],
   "source": []
  },
  {
   "cell_type": "code",
   "execution_count": null,
   "metadata": {},
   "outputs": [],
   "source": [
    "function resolve(data) {\n",
    "\tif (constants[data]!=undefined) {\n",
    "\t\tif (variables[data] != undefined) {\n",
    "\t\t\treturn \"#\"+variables[constants[data]]\n",
    "\t\t} else {\n",
    "\t\t\treturn constants[data];\n",
    "\t\t}\n",
    "\t} else {\n",
    "\t\treturn data;\n",
    "\t}\n",
    "}"
   ]
  },
  {
   "cell_type": "code",
   "execution_count": null,
   "metadata": {},
   "outputs": [],
   "source": [
    "function specify() {\n",
    "\tfor (var i of line) {\n",
    "\t\ti=resolve(i)\n",
    "\t}\n",
    "}"
   ]
  },
  {
   "cell_type": "code",
   "execution_count": null,
   "metadata": {},
   "outputs": [],
   "source": [
    "var labels = new Map()"
   ]
  },
  {
   "cell_type": "code",
   "execution_count": null,
   "metadata": {},
   "outputs": [],
   "source": []
  },
  {
   "cell_type": "code",
   "execution_count": null,
   "metadata": {},
   "outputs": [],
   "source": [
    "function expand(lines) { //do before push and also recognize\n",
    "\tvar ret = []\n",
    "\tvar labels = new Map()\n",
    "\tfor (line of lines) {\n",
    "\t\tline = specify(line)\n",
    "\t\tif (line[0][line[0].length - 1] == \":\") { //label\n",
    "\t\t\tline.shift();\n",
    "\t\t\tif (line.length == 1 && line[0] == \"hlt\") continue;\n",
    "\t\t}\n",
    "\t\tif (line[0] == \"mov\") {\n",
    "\t\t\tif (line[1][0] == \"r\") {\n",
    "\t\t\t\tif (line[2][0] == \"r\") {\n",
    "\t\t\t\t\tret.push([\"add\", line[1], \"r0\", line[2]])\n",
    "\t\t\t\t} else if (line[1][0] == \"#\") {\n",
    "\t\t\t\t\tret.push([\"loadi\", line[1], line[2].slice(1)])\n",
    "\t\t\t\t} else {\n",
    "\t\t\t\t\tvar number = parseNumber(line[2]);\n",
    "\t\t\t\t\tret.push([\"lui\", line[1], 0b111111111111111111111000000000000 & number])\n",
    "\t\t\t\t\tret.push([\"add\", line[1], \"r0\", 0b111111111111 & number])\n",
    "\t\t\t\t}\n",
    "\t\t\t} else if (line[1][0] == \"#\") {\n",
    "\t\t\t\tret.push([\"storei\", line[1].slice(1), line[2]);\n",
    "\t\t\t}\n",
    "\t\t\tcontinue\n",
    "\t\t}\n",
    "\t\tif (line[0] == \"lea\") {\n",
    "\t\t\tvar number = parseNumber(line[2].slice(1));\n",
    "\t\t\tret.push([\"lui\", line[1], 0b111111111111111111111000000000000 & n])\n",
    "\t\t\tret.push([\"add\", line[1], \"r0\", 0b111111111111 & n])\n",
    "\t\t\tcontinue\n",
    "\t\t}\n",
    "\t\tif (line[0] == \"push\") {\n",
    "\t\t\tret.push([\"sub\", \"r2\", \"zero\", \"1\"])\n",
    "\t\t\tret.push([\"store\", \"r2\", line[1]])\n",
    "\t\t\tcontinue\n",
    "\t\t}\n",
    "\n",
    "\t\tif (line[0] == \"pop\") {\n",
    "\t\t\tret.push([\"load\", line[1]], \"r2\")\n",
    "\t\t\tret.push([\"add\", \"r2\", \"zero\", \"1\"])\n",
    "\t\t\tcontinue\n",
    "\t\t}\n",
    "\n",
    "\t\tif (line[0] == \"call\") {\n",
    "\t\t\tret.push([\"sub\", \"r2\", \"zero\", \"1\"])\n",
    "\t\t\tret.push([\"store\", \"r2\", \"r3\"])\n",
    "\t\t\tret.push([\"j\", line[1]])\n",
    "\t\t\tcontinue\n",
    "\t\t}\n",
    "\t\tif (line[0] == \"ret\") {\n",
    "\t\t\tret.push([\"j\", \"r2\"])\n",
    "\t\t\tret.push([\"load\", line[1], \"r2\"])\n",
    "\t\t\tret.push([\"add\", \"r2\", \"zero\", \"1\"])\n",
    "\t\t\tcontinue\n",
    "\t\t}\n",
    "\t\tif (opcodes[line[0]] < 17) {\n",
    "\t\t\tif (line[2][0] == \"r\") ret.push(line)\n",
    "\t\t\telse\n",
    "\t\t\t\tline[0] += \"i\"\n",
    "\t\t\tret.push(line)\n",
    "\t\t\tcontinue\n",
    "\t\t}\n",
    "\t\tret.push(line);\n",
    "\t\t//else others\n",
    "\t}\t\n",
    "\tfor (var i =0;i<ret.length;i++) {\n",
    "\t\tline = ret[i];\n",
    "\t\tif (opcodes[line[0]] > 31 && opcodes[line[0]] <41 && labels[line[2]]!=undefined) \n",
    "\t\t\tif (opcodes[line[0]] == 32 || opcodes[line[0]] == 40)\n",
    "\t\t\tline[2] = labels[line[2]];\n",
    "\t\t\telse line[2] = (parseInt(labels[line[2]]) -i).toString();\n",
    "\t}\n",
    "}"
   ]
  },
  {
   "cell_type": "code",
   "execution_count": null,
   "metadata": {},
   "outputs": [],
   "source": []
  }
 ],
 "metadata": {
  "kernelspec": {
   "display_name": "JavaScript",
   "language": "javascript",
   "name": "jslab"
  },
  "language_info": {
   "file_extension": ".js",
   "mimetype": "text/javascript",
   "name": "javascript",
   "version": ""
  }
 },
 "nbformat": 4,
 "nbformat_minor": 4
}
