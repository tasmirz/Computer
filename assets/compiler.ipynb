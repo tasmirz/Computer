{
 "cells": [
  {
   "cell_type": "markdown",
   "metadata": {},
   "source": [
    "```nasm\n",
    ";Constant Declaration\n",
    "yy = 10\n",
    "bt=100\n",
    ";---\n",
    ";Variable Declaration\n",
    "var 1 2 3 4 5\n",
    "var 3 dup 4 5 dup 6 7\n",
    "var \"abc\"\n",
    ";this generates a separate variable file\n",
    ";---\n",
    ";the code section\n",
    "```"
   ]
  },
  {
   "cell_type": "markdown",
   "metadata": {},
   "source": [
    "zero = r0\n",
    "temp = r1\n",
    "sp = r2\n",
    "random = r16"
   ]
  },
  {
   "cell_type": "code",
   "execution_count": 1,
   "metadata": {},
   "outputs": [],
   "source": [
    "function segments(source) {\n",
    "\tvar arr = source.split(';---');\n",
    "\tif (arr.length != 3) throw \"Check segments\"\n",
    "\treturn {\n",
    "\t\tconstants: arr[0],\n",
    "\t\tvariables: arr[1],\n",
    "\t\tcode: arr[2],\n",
    "\t}\n",
    "}"
   ]
  },
  {
   "cell_type": "code",
   "execution_count": 2,
   "metadata": {},
   "outputs": [],
   "source": [
    "function get_constants(source) {\n",
    "\tvar constants = new Map()\n",
    "\tconstants[\"zero\"] = \"r0\"\n",
    "\tconstants[\"temp\"] = \"r1\"\n",
    "\tconstants[\"sp\"] = \"r2\"\n",
    "    constants[\"bp\"]=\"r3\"\n",
    "\tconstants[\"random\"] = \"r16\"\n",
    "\tsource = source.split('\\n');\n",
    "\tfor (var i of source) {\n",
    "\t\ti = i.replace(/\\s|\\t/g, '')\n",
    "\t\ti = i.split(';')[0].split('=')\n",
    "\t\tif (i.length == 2) constants[i[0]] = i[1]\n",
    "\t}\n",
    "\treturn constants\n",
    "}"
   ]
  },
  {
   "cell_type": "code",
   "execution_count": 3,
   "metadata": {},
   "outputs": [
    {
     "name": "stdout",
     "output_type": "stream",
     "text": [
      "Map(0) {\n",
      "  zero: 'r0',\n",
      "  temp: 'r1',\n",
      "  sp: 'r2',\n",
      "  bp: 'r3',\n",
      "  random: 'r16',\n",
      "  a: '1000',\n",
      "  b: '3000'\n",
      "}\n"
     ]
    }
   ],
   "source": [
    "get_constants(`\n",
    "a=1000\n",
    "b =  3000\n",
    "`)"
   ]
  },
  {
   "cell_type": "code",
   "execution_count": 4,
   "metadata": {},
   "outputs": [
    {
     "name": "stdout",
     "output_type": "stream",
     "text": [
      "hi there a\n"
     ]
    }
   ],
   "source": [
    "'hi\\n  \\tthere a'.replace(/\\s{2,}/g, ' ')"
   ]
  },
  {
   "cell_type": "code",
   "execution_count": 5,
   "metadata": {},
   "outputs": [],
   "source": [
    "function hex29(n) {\n",
    "\tvar ret = (n & 536870911).toString(16).padStart(8, \"0\")\n",
    "\treturn ret\n",
    "}"
   ]
  },
  {
   "cell_type": "code",
   "execution_count": 6,
   "metadata": {},
   "outputs": [],
   "source": [
    "function hexN(n, b) {\n",
    "\tvar ret = (n & ((1 << b) - 1)).toString(16).padStart((b + 3) / 4, \"0\")\n",
    "\treturn ret\n",
    "}"
   ]
  },
  {
   "cell_type": "code",
   "execution_count": 7,
   "metadata": {},
   "outputs": [
    {
     "name": "stdout",
     "output_type": "stream",
     "text": [
      "0a\n"
     ]
    }
   ],
   "source": [
    "hexN(10, 5)"
   ]
  },
  {
   "cell_type": "code",
   "execution_count": 8,
   "metadata": {},
   "outputs": [],
   "source": [
    "// replace all constants beforehand\n",
    "function memory_preprocess(source) {\n",
    "\tvar vars = new Map()\n",
    "\tsource = source.split('\\n');\n",
    "\tvar ret = []\n",
    "\tfor (var i of source) {\n",
    "\t\tvar li = i.search(`\"`);\n",
    "\t\tvar ri = i.lastIndexOf(`\"`);\n",
    "\t\tif (li == -1) {\n",
    "\t\t\ti = i.split(\";\")[0].trim().replace(/\\s+/g, ' ').split(\" \");\n",
    "\t\t\tif (i.length < 2) continue;\n",
    "\t\t\tvars[i[0]] = ret.length;\n",
    "\t\t\tfor (var j = 1; j < i.length; j++) {\n",
    "\t\t\t\tif (i[j] == \"dup\") {\n",
    "\t\t\t\t\tvar q;\n",
    "\t\t\t\t\tswitch (i[j + 1][0]) {\n",
    "\t\t\t\t\t\tcase \"b\":\n",
    "\t\t\t\t\t\t\tq = (hex29(parseInt(i[j + 1].slice(1), 2)))\n",
    "\t\t\t\t\t\t\tbreak\n",
    "\t\t\t\t\t\tcase \"h\":\n",
    "\t\t\t\t\t\t\tq = (hex29(parseInt(i[j + 1].slice(1), 16)))\n",
    "\t\t\t\t\t\t\tbreak\n",
    "\t\t\t\t\t\tdefault:\n",
    "\t\t\t\t\t\t\tq = (hex29(parseInt(i[j + 1], 10)))\n",
    "\n",
    "\t\t\t\t\t}\n",
    "\t\t\t\t\tfor (var k = 0; k < parseInt(i[j + 2]); k++) ret.push(q);\n",
    "\t\t\t\t\tj += 2\n",
    "\t\t\t\t} else {\n",
    "\t\t\t\t\tswitch (i[j][0]) {\n",
    "\t\t\t\t\t\tcase \"b\":\n",
    "\t\t\t\t\t\t\tret.push(hex29(parseInt(i[j].slice(1), 2)))\n",
    "\t\t\t\t\t\t\tbreak\n",
    "\t\t\t\t\t\tcase \"h\":\n",
    "\t\t\t\t\t\t\tret.push(hex29(parseInt(i[j].slice(1), 16)))\n",
    "\t\t\t\t\t\t\tbreak\n",
    "\t\t\t\t\t\tdefault:\n",
    "\t\t\t\t\t\t\tret.push(hex29(parseInt(i[j], 10)))\n",
    "\n",
    "\t\t\t\t\t}\n",
    "\t\t\t\t}\n",
    "\t\t\t}\n",
    "\n",
    "\n",
    "\t\t} else {\n",
    "\t\t\tvar name = i.slice(0, li).trim()\n",
    "\t\t\tvar str = i.slice(li + 1, ri);\n",
    "\t\t\tvars[name] = ret.length\n",
    "\t\t\tfor (var j = 0; j < str.length; j++) {\n",
    "\t\t\t\tret.push(hex29(str[j].charCodeAt(0)))\n",
    "\t\t\t}\n",
    "\t\t}\n",
    "\t}\n",
    "\treturn {\n",
    "\t\tnames: vars,\n",
    "\t\tmemory: ret\n",
    "\t};\n",
    "}"
   ]
  },
  {
   "cell_type": "code",
   "execution_count": 9,
   "metadata": {},
   "outputs": [
    {
     "name": "stdout",
     "output_type": "stream",
     "text": [
      "{\n",
      "  names: Map(0) { var: 0, var2: 5, var3: 7 },\n",
      "  memory: [\n",
      "    '00000068', '00000065',\n",
      "    '0000006c', '0000006c',\n",
      "    '0000006f', '0000000a',\n",
      "    '00004e20', '0000000a',\n",
      "    '0000000a', '0000000a'\n",
      "  ]\n",
      "}\n"
     ]
    }
   ],
   "source": [
    "memory_preprocess(`\n",
    ";pikachu\n",
    "var \"hello\"\n",
    "var2 10 20000;yay\n",
    "var3 dup 10 3;nay\n",
    ";pop\n",
    "`)"
   ]
  },
  {
   "cell_type": "code",
   "execution_count": 10,
   "metadata": {},
   "outputs": [],
   "source": [
    "function preprocess(source) {\n",
    "\tvar lines = []\n",
    "\tvar line = []\n",
    "\tvar temp = \"\"\n",
    "\tvar lock = false;\n",
    "\tfor (var i = 0; i < source.length; i++) {\n",
    "\t\tvar c = source[i]\n",
    "\t\tif (!lock)\n",
    "\t\t\tswitch (c) {\n",
    "\t\t\t\tcase ';':\n",
    "\t\t\t\t\tlock = true;\n",
    "\t\t\t\tcase '\\n':\n",
    "\t\t\t\t\tif (temp.length) line.push(temp)\n",
    "\t\t\t\t\ttemp = \"\"\n",
    "\t\t\t\t\tif (line.length) lines.push(line)\n",
    "\t\t\t\t\tline = []\n",
    "\t\t\t\t\tbreak\n",
    "\t\t\t\tcase ' ':\n",
    "\t\t\t\tcase ',':\n",
    "\t\t\t\t\tif (temp.length) line.push(temp)\n",
    "\t\t\t\t\ttemp = \"\"\n",
    "\t\t\t\t\tbreak\n",
    "\t\t\t\tcase '\\t':\n",
    "\t\t\t\t\tbreak\n",
    "\t\t\t\tdefault:\n",
    "\t\t\t\t\ttemp += c;\n",
    "\t\t\t\t\tbreak\n",
    "\t\t\t}\n",
    "\t\tif (c == '\\n') lock = false;\n",
    "\t}\n",
    "\treturn lines;\n",
    "}"
   ]
  },
  {
   "cell_type": "code",
   "execution_count": 11,
   "metadata": {},
   "outputs": [
    {
     "name": "stdout",
     "output_type": "stream",
     "text": [
      "[ [ 'mov', 'ax', 'bx' ], [ 'int', '21h' ] ]\n"
     ]
    }
   ],
   "source": [
    "preprocess(`\n",
    "\tmov     \t         ax,bx;hi\n",
    "\tint 21h\n",
    "`)"
   ]
  },
  {
   "cell_type": "code",
   "execution_count": null,
   "metadata": {},
   "outputs": [],
   "source": []
  },
  {
   "cell_type": "code",
   "execution_count": 12,
   "metadata": {},
   "outputs": [
    {
     "name": "stdout",
     "output_type": "stream",
     "text": [
      "63\n"
     ]
    }
   ],
   "source": [
    "var opcodes = new Map();\n",
    "opcodes[\"nop\"] = 0\n",
    "opcodes[\"add\"] = 1\n",
    "opcodes[\"sub\"] = 2\n",
    "opcodes[\"mul\"] = 3\n",
    "opcodes[\"mulh\"] = 4\n",
    "opcodes[\"div\"] = 5\n",
    "opcodes[\"rem\"] = 6\n",
    "opcodes[\"not\"] = 7\n",
    "opcodes[\"and\"] = 8\n",
    "opcodes[\"or\"] = 9\n",
    "opcodes[\"xor\"] = 10\n",
    "opcodes[\"shl\"] = 11\n",
    "opcodes[\"shr\"] = 12\n",
    "opcodes[\"ror\"] = 13\n",
    "opcodes[\"rol\"] = 14\n",
    "opcodes[\"ashl\"] = 15\n",
    "opcodes[\"addi\"] = 17\n",
    "opcodes[\"subi\"] = 18\n",
    "opcodes[\"muli\"] = 19\n",
    "opcodes[\"mulhi\"] = 20\n",
    "opcodes[\"divi\"] = 21\n",
    "opcodes[\"remi\"] = 22\n",
    "opcodes[\"lui\"] = 23\n",
    "opcodes[\"andi\"] = 24\n",
    "opcodes[\"ori\"] = 25\n",
    "opcodes[\"xori\"] = 26\n",
    "opcodes[\"shli\"] = 27\n",
    "opcodes[\"shri\"] = 28\n",
    "opcodes[\"rori\"] = 29\n",
    "opcodes[\"roli\"] = 30\n",
    "opcodes[\"ashli\"] = 31\n",
    "opcodes[\"jr\"] = 32\n",
    "opcodes[\"bg\"] = 33\n",
    "opcodes[\"be\"] = 34\n",
    "opcodes[\"bge\"] = 35\n",
    "opcodes[\"bl\"] = 36\n",
    "opcodes[\"bne\"] = 37\n",
    "opcodes[\"ble\"] = 38\n",
    "opcodes[\"jal\"] = 39\n",
    "opcodes[\"load\"] = 40\n",
    "opcodes[\"loadi\"] = 41\n",
    "opcodes[\"store\"] = 42\n",
    "opcodes[\"storei\"] = 43\n",
    "opcodes[\"in\"] = 44\n",
    "opcodes[\"ini\"] = 45\n",
    "opcodes[\"out\"] = 46\n",
    "opcodes[\"outi\"] = 47\n",
    "opcodes[\"hlt\"] = 63"
   ]
  },
  {
   "cell_type": "code",
   "execution_count": 13,
   "metadata": {},
   "outputs": [
    {
     "name": "stdout",
     "output_type": "stream",
     "text": [
      "[]\n"
     ]
    }
   ],
   "source": [
    "var operands = new Map();\n",
    "operands[\"nop\"] = [\"rd\", \"rs1\", \"rs2\"]\n",
    "operands[\"add\"] = [\"rd\", \"rs1\", \"rs2\"]\n",
    "operands[\"sub\"] = [\"rd\", \"rs1\", \"rs2\"]\n",
    "operands[\"mul\"] = [\"rd\", \"rs1\", \"rs2\"]\n",
    "operands[\"mulh\"] = [\"rd\", \"rs1\", \"rs2\"]\n",
    "operands[\"div\"] = [\"rd\", \"rs1\", \"rs2\"]\n",
    "operands[\"rem\"] = [\"rd\", \"rs1\", \"rs2\"]\n",
    "operands[\"not\"] = [\"rd\", \"rs1\", \"rs2\"]\n",
    "operands[\"and\"] = [\"rd\", \"rs1\", \"rs2\"]\n",
    "operands[\"or\"] = [\"rd\", \"rs1\", \"rs2\"]\n",
    "operands[\"xor\"] = [\"rd\", \"rs1\", \"rs2\"]\n",
    "operands[\"shl\"] = [\"rd\", \"rs1\", \"rs2\"]\n",
    "operands[\"shr\"] = [\"rd\", \"rs1\", \"rs2\"]\n",
    "operands[\"ror\"] = [\"rd\", \"rs1\", \"rs2\"]\n",
    "operands[\"rol\"] = [\"rd\", \"rs1\", \"rs2\"]\n",
    "operands[\"ashl\"] = [\"rd\", \"rs1\", \"rs2\"]\n",
    "operands[\"addi\"] = [\"rd\", \"rs1\", \"im\"]\n",
    "operands[\"subi\"] = [\"rd\", \"rs1\", \"im\"]\n",
    "operands[\"muli\"] = [\"rd\", \"rs1\", \"im\"]\n",
    "operands[\"mulhi\"] = [\"rd\", \"rs1\", \"im\"]\n",
    "operands[\"divi\"] = [\"rd\", \"rs1\", \"im\"]\n",
    "operands[\"remi\"] = [\"rd\", \"rs1\", \"im\"]\n",
    "operands[\"lui\"] = [\"rd\", \"imu\"]\n",
    "operands[\"andi\"] = [\"rd\", \"rs1\", \"im\"]\n",
    "operands[\"ori\"] = [\"rd\", \"rs1\", \"im\"]\n",
    "operands[\"xori\"] = [\"rd\", \"rs1\", \"im\"]\n",
    "operands[\"shli\"] = [\"rd\", \"rs1\", \"im\"]\n",
    "operands[\"shri\"] = [\"rd\", \"rs1\", \"im\"]\n",
    "operands[\"rori\"] = [\"rd\", \"rs1\", \"im\"]\n",
    "operands[\"roli\"] = [\"rd\", \"rs1\", \"im\"]\n",
    "operands[\"ashli\"] = [\"rd\", \"rs1\", \"im\"]\n",
    "operands[\"jr\"] = [\"rd\", \"rs1\"]\n",
    "operands[\"bg\"] = [\"rs1\", \"rs2\", \"im\"]\n",
    "operands[\"be\"] = [\"rs1\", \"rs2\", \"im\"]\n",
    "operands[\"bge\"] = [\"rs1\", \"rs2\", \"im\"]\n",
    "operands[\"bl\"] = [\"rs1\", \"rs2\", \"im\"]\n",
    "operands[\"bne\"] = [\"rs1\", \"rs2\", \"im\"]\n",
    "operands[\"ble\"] = [\"rs1\", \"rs2\", \"im\"]\n",
    "operands[\"jal\"] = [\"rd\", \"rs1\"]\n",
    "operands[\"load\"] = [\"rd\",\"rs1\"]\n",
    "operands[\"loadi\"] = [\"rd\",\"ld\"]\n",
    "operands[\"store\"] = [\"rs1\", \"rs2\"]\n",
    "operands[\"storei\"] = [\"st\",\"rs2\"]\n",
    "operands[\"in\"] = [\"rd\", \"rs2\"]\n",
    "operands[\"ini\"] = [\"rd\", \"ld\"]\n",
    "operands[\"out\"] = [\"rs2\",\"rs1\"]\n",
    "operands[\"outi\"] = [\"rs2\",\"ld\"]\n",
    "operands[\"hlt\"] = []"
   ]
  },
  {
   "cell_type": "code",
   "execution_count": 14,
   "metadata": {},
   "outputs": [],
   "source": [
    "function parseNumber(n) {\n",
    "    switch(n[0]) {\n",
    "        case \"b\" :return parseInt(n.slice(1), 2)\n",
    "        case \"h\": return parseInt(n.slice(1), 16)\n",
    "        default:return parseInt(n, 10)\n",
    "    }\n",
    "}\t\t\t\t\t\t\t"
   ]
  },
  {
   "cell_type": "code",
   "execution_count": 15,
   "metadata": {},
   "outputs": [],
   "source": [
    "function machine(line) {\n",
    "\t//          op,rd,rs1,rs2,st,ld,im,imu,jr\n",
    "\tvar list = {\n",
    "\t\topcode: 0,\n",
    "\t\trd: 0,\n",
    "\t\trs1: 0,\n",
    "\t\trs2: 0,\n",
    "\t\tst: 0,\n",
    "\t\tld: 0,\n",
    "\t\tim: 0,\n",
    "\t\timu: 0,\n",
    "\t\tjr: 0\n",
    "\t} //policy if 0 don't include\n",
    "\tvar cooked = 0;\n",
    "\tvar specs = {\n",
    "\t\topcode: [[0, 6]], //opcode\n",
    "\t\trd: [[6, 5]], //rd\n",
    "\t\trs1: [[11, 5]], //rs1\n",
    "\t\trs2: [[16, 5]], //rs2\n",
    "\t\tst: [[6, 10], [23, 6]], //st\n",
    "\t\tld: [[13, 16]],//ld\n",
    "\t\tim: [[18, 12]], //im\n",
    "\t\timu: [[12, 17]], //imu\n",
    "\t\tjr: [[6, 5], [21, 8]]//jr\n",
    "\t}\n",
    "\tlist.opcode = opcodes[line[0]]\n",
    "\tvar ops = operands[line[0]]\n",
    "\tconsole.log(line)\n",
    "\tline.shift();\n",
    "\tfor (var i in ops) {\n",
    "\n",
    "\t\tif (line[i] == \"r\") line[i].splice(1)\n",
    "\t\tlist[ops[i]] = parseInt(line[i])\n",
    "\t}\n",
    "\n",
    "\n",
    "\tfor (var i in specs) {\n",
    "\t\tvar t = list[i]\n",
    "\t\tfor (var j of specs[i]) {\n",
    "\t\t\tcooked |= (((1 << j[1]) - 1) & t) << j[0]\n",
    "\t\t\tt >>= j[1]\n",
    "\t\t}\n",
    "\t}\n",
    "\t//this.cooked|=ops&(1<<this.specs.opcodes[2]-1)\n",
    "\n",
    "\treturn hex29(cooked)\n",
    "}\n"
   ]
  },
  {
   "cell_type": "markdown",
   "metadata": {},
   "source": [
    "mov ax,10\n",
    "mov ax,#1000\n",
    "mov #1000,ax\n",
    "lea ax,#1000\n",
    "```"
   ]
  },
  {
   "cell_type": "markdown",
   "metadata": {},
   "source": [
    "fn call\n",
    "push bp\n",
    "jmp -> sets new bp\n",
    "\n",
    "\n",
    "ret\n",
    "jmp bp\n",
    "pop "
   ]
  },
  {
   "cell_type": "code",
   "execution_count": 16,
   "metadata": {},
   "outputs": [
    {
     "name": "stdout",
     "output_type": "stream",
     "text": [
      "10\n"
     ]
    }
   ],
   "source": [
    "var a = new Map()\n",
    "a[\"a\"]=10"
   ]
  },
  {
   "cell_type": "code",
   "execution_count": null,
   "metadata": {},
   "outputs": [],
   "source": []
  },
  {
   "cell_type": "code",
   "execution_count": 17,
   "metadata": {},
   "outputs": [],
   "source": [
    "function resolve(constants,variables,data) {\n",
    "\tif (constants[data]!=undefined) {\n",
    "\t\tif (variables[data] != undefined) {\n",
    "\t\t\treturn \"#\"+variables[constants[data]]\n",
    "\t\t} else {\n",
    "\t\t\treturn constants[data];\n",
    "\t\t}\n",
    "\t} else {\n",
    "\t\treturn data;\n",
    "\t}\n",
    "}"
   ]
  },
  {
   "cell_type": "code",
   "execution_count": 18,
   "metadata": {},
   "outputs": [],
   "source": [
    "function specify(line) {\n",
    "\tfor (var i of line) {\n",
    "\t\ti=resolve(i)\n",
    "\t}\n",
    "\treturn line\n",
    "}"
   ]
  },
  {
   "cell_type": "code",
   "execution_count": 19,
   "metadata": {},
   "outputs": [],
   "source": [
    "var labels = new Map()"
   ]
  },
  {
   "cell_type": "code",
   "execution_count": 20,
   "metadata": {},
   "outputs": [
    {
     "name": "stdout",
     "output_type": "stream",
     "text": [
      "8589930496\n"
     ]
    }
   ],
   "source": [
    "0b111111111111111111111000000000000"
   ]
  },
  {
   "cell_type": "code",
   "execution_count": 21,
   "metadata": {},
   "outputs": [
    {
     "name": "stdout",
     "output_type": "stream",
     "text": [
      "bc\n"
     ]
    }
   ],
   "source": [
    "\"abc\".slice(1)"
   ]
  },
  {
   "cell_type": "code",
   "execution_count": 26,
   "metadata": {},
   "outputs": [],
   "source": [
    "function expand(lines) { //do before push and also recognize\n",
    "\tvar ret = []\n",
    "\tvar labels = new Map()\n",
    "\tfor (var line of lines) {\n",
    "\t\tline = specify(line)\n",
    "\n",
    "\t\tif (line[0][line[0].length - 1] == \":\") { //label\n",
    "\t\t\tif (line.length == 1 && line[0] == \"hlt\") continue;\n",
    "\t\t\telse {\n",
    "\t\t\t\tlabels[line[0].slice(0,-1)] = ret.length;\n",
    "\t\t\t\tline.shift();\n",
    "\t\t\t\tif (!line.length) continue\n",
    "\t\t\t}\n",
    "\t\t}\n",
    "\t\tif (line[0] == \"mov\") {\n",
    "\t\t\tif (line[1][0] == \"r\") {\n",
    "\t\t\t\tif (line[2][0] == \"r\") {\n",
    "\t\t\t\t\tret.push([\"add\", line[1], \"r0\", line[2]])\n",
    "\t\t\t\t} else if (line[1][0] == \"#\") {\n",
    "\t\t\t\t\tret.push([\"loadi\", line[1], line[2].slice(1)])\n",
    "\t\t\t\t} else {\n",
    "\t\t\t\t\tvar number = parseNumber(line[2]);\n",
    "\t\t\t\t\tret.push([\"lui\", line[1], 0b111111111111111111111000000000000 & 1])\n",
    "\t\t\t\t\tret.push([\"addi\", line[1], \"r0\", 0b111111111111 & number])\n",
    "\t\t\t\t}\n",
    "\t\t\t} else if (line[1][0] == \"#\") {\n",
    "\t\t\t\tret.push([\"storei\", line[1].slice(1), line[2]]);\n",
    "\t\t\t}\n",
    "\t\t\tcontinue\n",
    "\t\t}\n",
    "\t\tif (line[0] == \"lea\") {\n",
    "\t\t\tvar number = parseNumber(line[2].slice(1));\n",
    "\t\t\tret.push([\"lui\", line[1], 0b111111111111111111111000000000000 & number])\n",
    "\t\t\tret.push([\"addi\", line[1], \"r0\", 0b111111111111 & number])\n",
    "\t\t\tcontinue\n",
    "\t\t}\n",
    "\t\tif (line[0] == \"push\") {\n",
    "\t\t\tret.push([\"subi\", \"r2\", \"zero\", \"1\"])\n",
    "\t\t\tret.push([\"store\", \"r2\", line[1]])\n",
    "\t\t\tcontinue\n",
    "\t\t}\n",
    "\n",
    "\t\tif (line[0] == \"pop\") {\n",
    "\t\t\tret.push([\"load\", line[1]], \"r2\")\n",
    "\t\t\tret.push([\"addi\", \"r2\", \"zero\", \"1\"])\n",
    "\t\t\tcontinue\n",
    "\t\t}\n",
    "\n",
    "\t\tif (line[0] == \"call\") {\n",
    "\t\t\tret.push([\"subi\", \"r2\", \"zero\", \"1\"])\n",
    "\t\t\tret.push([\"store\", \"r2\", \"r3\"])\n",
    "\t\t\tret.push([\"j\", line[1]])\n",
    "\t\t\tcontinue\n",
    "\t\t}\n",
    "\t\tif (line[0] == \"ret\") {\n",
    "\t\t\tret.push([\"j\", \"r2\"])\n",
    "\t\t\tret.push([\"load\", line[1], \"r2\"])\n",
    "\t\t\tret.push([\"addi\", \"r2\", \"zero\", \"1\"])\n",
    "\t\t\tcontinue\n",
    "\t\t}\n",
    "\t\tif (opcodes[line[0]] < 17) {\n",
    "\t\t\tif (line[2][0] != \"r\") line[0] += \"i\"\n",
    "\t\t\tret.push(line)\n",
    "\t\t\tcontinue\n",
    "\t\t}\n",
    "\t\tret.push(line);\n",
    "\t\t//else others\n",
    "\t}\t\n",
    "\tfor (var i =0;i<ret.length;i++) {\n",
    "\t\tline = ret[i];\n",
    "\t\tif (opcodes[line[0]] > 31 && opcodes[line[0]] <41 && labels[line[2]]!=undefined) \n",
    "\t\t\tif (opcodes[line[0]] == 32 || opcodes[line[0]] == 40)\n",
    "\t\t\tline[2] = labels[line[2]];\n",
    "\t\t\telse line[2] = (parseInt(labels[line[2]]) -i).toString();\n",
    "\t}\n",
    "\treturn {\n",
    "\t\tlabels:labels,\n",
    "\t\tinstructions:ret\n",
    "\t}\n",
    "}"
   ]
  },
  {
   "cell_type": "code",
   "execution_count": 27,
   "metadata": {},
   "outputs": [
    {
     "name": "stdout",
     "output_type": "stream",
     "text": [
      "[\n",
      "  [ 'a:' ],\n",
      "  [ 'mov', 'r10', '10' ],\n",
      "  [ 'b:', 'add', 'r11', 'r10', 'r9' ]\n",
      "]\n",
      "{\n",
      "  labels: Map(0) { a: 0, b: 2 },\n",
      "  instructions: [\n",
      "    [ 'lui', 'r10', 0 ],\n",
      "    [ 'addi', 'r10', 'r0', 10 ],\n",
      "    [ 'add', 'r11', 'r10', 'r9' ]\n",
      "  ]\n",
      "}\n",
      "[ 'addi', 'r10', 'r0', 10 ]\n",
      "00280011\n"
     ]
    }
   ],
   "source": [
    "var a = preprocess(`\n",
    "a:\n",
    "mov r10,10\n",
    "b: add r11,r10,r9\n",
    "`)\n",
    "console.log(a)\n",
    "var b=expand(a)\n",
    "console.log(b)\n",
    "machine(b.instructions[1])"
   ]
  },
  {
   "cell_type": "code",
   "execution_count": null,
   "metadata": {},
   "outputs": [],
   "source": []
  },
  {
   "cell_type": "code",
   "execution_count": 24,
   "metadata": {},
   "outputs": [],
   "source": [
    "import fs from 'node:fs';"
   ]
  },
  {
   "cell_type": "code",
   "execution_count": 25,
   "metadata": {},
   "outputs": [],
   "source": [
    "function load_file(url) {\n",
    "\ttry {\n",
    "\t\tconst data = fs.readFileSync(url, 'utf8');\n",
    "\t\tconsole.log(data);\n",
    "\t} catch (err) {\n",
    "\t\tconsole.error(err);\n",
    "\t}\n",
    "}"
   ]
  },
  {
   "cell_type": "code",
   "execution_count": null,
   "metadata": {},
   "outputs": [],
   "source": []
  },
  {
   "cell_type": "markdown",
   "metadata": {},
   "source": []
  }
 ],
 "metadata": {
  "kernelspec": {
   "display_name": "JavaScript",
   "language": "javascript",
   "name": "jslab"
  },
  "language_info": {
   "file_extension": ".js",
   "mimetype": "text/javascript",
   "name": "javascript",
   "version": ""
  }
 },
 "nbformat": 4,
 "nbformat_minor": 4
}
